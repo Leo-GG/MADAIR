{
 "cells": [
  {
   "cell_type": "markdown",
   "id": "ba656162-c413-4cfe-9f44-032e709cd31a",
   "metadata": {},
   "source": [
    "# Download data"
   ]
  },
  {
   "cell_type": "code",
   "execution_count": 2,
   "id": "7d4fba01-897f-427d-b9be-9b89f6e25757",
   "metadata": {},
   "outputs": [],
   "source": [
    "import os\n",
    "import requests\n",
    "from bs4 import BeautifulSoup\n",
    "from urllib.parse import urljoin\n",
    "\n",
    "# Step 1: Website URL and folder to save CSV files\n",
    "url = \"https://datos.madrid.es/portal/site/egob/menuitem.c05c1f754a33a9fbe4b2e4b284f1a5a0/?vgnextoid=aecb88a7e2b73410VgnVCM2000000c205a0aRCRD&vgnextchannel=374512b9ace9f310VgnVCM100000171f5a0aRCRD&vgnextfmt=default\"  # Replace with the actual URL\n",
    "download_folder = \"csv_files\"\n",
    "\n",
    "# Create the download folder if it doesn't exist\n",
    "if not os.path.exists(download_folder):\n",
    "    os.makedirs(download_folder)\n",
    "\n",
    "# Step 2: Fetch the webpage content\n",
    "response = requests.get(url)\n",
    "if response.status_code != 200:\n",
    "    raise Exception(f\"Failed to load page {url}\")\n",
    "\n",
    "# Step 3: Parse the HTML content with BeautifulSoup\n",
    "soup = BeautifulSoup(response.content, \"html.parser\")\n",
    "\n",
    "# Step 4: Find all the links to CSV files\n",
    "csv_links = []\n",
    "for link in soup.find_all(\"a\", href=True):\n",
    "    href = link[\"href\"]\n",
    "    if href.endswith(\".csv\"):  # Check if the link is a CSV file\n",
    "        full_url = urljoin(url, href)  # Create an absolute URL\n",
    "        csv_links.append(full_url)\n",
    "\n",
    "# Step 5: Download all the CSV files\n",
    "for csv_link in csv_links:\n",
    "    csv_file_name = os.path.join(download_folder, os.path.basename(csv_link))\n",
    "    \n",
    "    # Download the CSV file\n",
    "    with requests.get(csv_link, stream=True) as r:\n",
    "        if r.status_code == 200:\n",
    "            with open(csv_file_name, \"wb\") as file:\n",
    "                for chunk in r.iter_content(chunk_size=8192):\n",
    "                    file.write(chunk)\n",
    "            print(f\"Downloaded: {csv_file_name}\")\n",
    "        else:\n",
    "            print(f\"Failed to download: {csv_link}\")\n"
   ]
  },
  {
   "cell_type": "markdown",
   "id": "d1ccb6fc-846c-4228-b249-19bf262bc3f9",
   "metadata": {},
   "source": [
    "# Merge CSV files"
   ]
  },
  {
   "cell_type": "code",
   "execution_count": 24,
   "id": "b6c728bb-9d42-440c-a5b3-89e703a11489",
   "metadata": {},
   "outputs": [],
   "source": [
    "import os\n",
    "import pandas as pd\n",
    "\n",
    "# Step 1: Path to the folder containing CSV files\n",
    "folder_path = \"csv_files\"  # Replace with the path to the folder where CSV files were downloaded\n",
    "\n",
    "# Step 2: List all CSV files in the folder\n",
    "csv_files = [f for f in os.listdir(folder_path) if f.endswith('.csv')]\n",
    "\n",
    "# Step 3: Initialize an empty list to store DataFrames\n",
    "dataframes = []\n",
    "\n",
    "# Step 4: Read each CSV file and append to the list\n",
    "for csv_file in csv_files:\n",
    "    file_path = os.path.join(folder_path, csv_file)\n",
    "    df = pd.read_csv(file_path, sep=';')  # Read the CSV file\n",
    "    dataframes.append(df)  # Append the DataFrame to the list\n",
    "\n",
    "# Step 5: Concatenate all DataFrames into a single DataFrame\n",
    "combined_df = pd.concat(dataframes, ignore_index=True)\n",
    "\n",
    "\n"
   ]
  },
  {
   "cell_type": "markdown",
   "id": "149dab89-9355-43eb-8aa5-4165d495f8f3",
   "metadata": {},
   "source": [
    "# Read-in metadata"
   ]
  },
  {
   "cell_type": "code",
   "execution_count": 25,
   "id": "f3652324-2394-4dea-9287-962e1d711d2c",
   "metadata": {},
   "outputs": [],
   "source": [
    "# Table with codes for measures and experimental techniques\n",
    "df_exp=pd.read_csv('metadata/Magnitudes.csv', index_col=0)\n",
    "# Table with codes for the stations\n",
    "df_estaciones=pd.read_csv('metadata/Estaciones.csv', index_col=0)"
   ]
  },
  {
   "cell_type": "code",
   "execution_count": 26,
   "id": "a7abc830-b026-4528-a3d3-f02dc9c2e326",
   "metadata": {},
   "outputs": [],
   "source": [
    "# Turn both tables into dictionaries\n",
    "dict_estaciones=df_estaciones.to_dict()['NOMBRE']\n",
    "dict_magnitudes=df_exp.to_dict()['Magnitud']"
   ]
  },
  {
   "cell_type": "code",
   "execution_count": 27,
   "id": "a55e98b0-381f-44cf-872a-754b88451f6e",
   "metadata": {},
   "outputs": [],
   "source": [
    "# Make another one for the experimental techniques\n",
    "df_exp.index=df_exp.Codigo_Tecnica\n",
    "dict_tecnicas=df_exp.to_dict()['Tecnica_de_medida']"
   ]
  },
  {
   "cell_type": "markdown",
   "id": "1731ec41-fba4-40bf-b066-4f23a2da59bc",
   "metadata": {},
   "source": [
    "# Clean-up the table"
   ]
  },
  {
   "cell_type": "code",
   "execution_count": 28,
   "id": "24a78b47-5b6b-4d22-84c0-2f9229384155",
   "metadata": {},
   "outputs": [],
   "source": [
    "# Remove validation columns\n",
    "combined_df=combined_df[[i for i in combined_df.columns if 'V' not in i]].copy()\n",
    "# Add Exp. Technique and Station columns\n",
    "combined_df['Tecnica']=[int(i.split('_')[-1]) for i in combined_df.PUNTO_MUESTREO]\n",
    "combined_df['Estacion']=[int(i.split('_')[0]) for i in combined_df.PUNTO_MUESTREO]\n",
    "# Apply dictionaries\n",
    "combined_df['Estacion']=combined_df['Estacion'].replace(dict_estaciones)\n",
    "combined_df['Medida']=combined_df['MAGNITUD'].replace(dict_magnitudes)\n",
    "combined_df['Tecnica']=combined_df['Tecnica'].replace(dict_tecnicas)\n",
    "combined_df.Tecnica=combined_df.Tecnica.astype(str)"
   ]
  },
  {
   "cell_type": "code",
   "execution_count": 29,
   "id": "44f52899-6cea-4cea-bca8-e2abd23d2099",
   "metadata": {},
   "outputs": [],
   "source": [
    "# Restrict to the relevant columns\n",
    "sel_cols=list(['Estacion','Medida','Tecnica','ANO','MES'])+list([i for i in combined_df.columns if i[0]=='D'])\n",
    "combined_df=combined_df[sel_cols].copy()"
   ]
  },
  {
   "cell_type": "markdown",
   "id": "0c86b969-29c9-40ca-8f58-995f112f0b2b",
   "metadata": {},
   "source": [
    "# Melt table, format columns and write out"
   ]
  },
  {
   "cell_type": "code",
   "execution_count": 30,
   "id": "3a62ded5-fa28-437f-bcc8-29157ec23edc",
   "metadata": {},
   "outputs": [],
   "source": [
    "# Melt all the columns with values per day\n",
    "df_long=combined_df.melt(id_vars=['Estacion','Medida','Tecnica','ANO','MES'])\n",
    "# Rename columns\n",
    "df_long.columns=['Estacion','Medida','Tecnica','Year','Month','Day','Value']\n",
    "# Turn days into integers\n",
    "df_long['Day']=[int(i[1:]) for i in df_long['Day']]\n",
    "# Make data column\n",
    "df_long['Date']=df_long['Day'].astype(str)+'-'+df_long['Month'].astype(str)+'-'+df_long['Year'].astype(str)\n",
    "df_long['Date']=pd.to_datetime(df_long['Date'], format='%d-%m-%Y', errors='coerce')\n",
    "# There are invalid dates included, remove them\n",
    "df_long=df_long[~df_long['Date'].isna()].copy()\n",
    "# Remove entries with values of 0\n",
    "df_long=df_long[df_long.Value!=0].copy()"
   ]
  },
  {
   "cell_type": "code",
   "execution_count": 31,
   "id": "c2a4e0f6-cc7e-479a-9c68-17b9cae06b90",
   "metadata": {},
   "outputs": [],
   "source": [
    "# Write out to a parquet file\n",
    "df_long.to_parquet('data/AirData_raw.parquet')"
   ]
  },
  {
   "cell_type": "code",
   "execution_count": null,
   "id": "aa17cc37-d950-408a-92b5-f7b30839bee0",
   "metadata": {},
   "outputs": [],
   "source": []
  }
 ],
 "metadata": {
  "kernelspec": {
   "display_name": "Python 3 (ipykernel)",
   "language": "python",
   "name": "python3"
  },
  "language_info": {
   "codemirror_mode": {
    "name": "ipython",
    "version": 3
   },
   "file_extension": ".py",
   "mimetype": "text/x-python",
   "name": "python",
   "nbconvert_exporter": "python",
   "pygments_lexer": "ipython3",
   "version": "3.10.14"
  }
 },
 "nbformat": 4,
 "nbformat_minor": 5
}
