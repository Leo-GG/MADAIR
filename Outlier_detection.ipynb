{
 "cells": [
  {
   "cell_type": "markdown",
   "id": "4a9655fa-ee8d-4c18-807c-6574537af06f",
   "metadata": {},
   "source": [
    "# Load data"
   ]
  },
  {
   "cell_type": "code",
   "execution_count": 1,
   "id": "e648e8a0-c3de-44d9-b278-664f43cafce3",
   "metadata": {},
   "outputs": [
    {
     "data": {
      "text/html": [
       "<div>\n",
       "<style scoped>\n",
       "    .dataframe tbody tr th:only-of-type {\n",
       "        vertical-align: middle;\n",
       "    }\n",
       "\n",
       "    .dataframe tbody tr th {\n",
       "        vertical-align: top;\n",
       "    }\n",
       "\n",
       "    .dataframe thead th {\n",
       "        text-align: right;\n",
       "    }\n",
       "</style>\n",
       "<table border=\"1\" class=\"dataframe\">\n",
       "  <thead>\n",
       "    <tr style=\"text-align: right;\">\n",
       "      <th></th>\n",
       "      <th>Estacion</th>\n",
       "      <th>Medida</th>\n",
       "      <th>Tecnica</th>\n",
       "      <th>Year</th>\n",
       "      <th>Month</th>\n",
       "      <th>Day</th>\n",
       "      <th>Value</th>\n",
       "      <th>Date</th>\n",
       "    </tr>\n",
       "  </thead>\n",
       "  <tbody>\n",
       "    <tr>\n",
       "      <th>0</th>\n",
       "      <td>Pza.deEspaña</td>\n",
       "      <td>Dióxido_de_Azufre</td>\n",
       "      <td>Fluorescencia_ultravioleta</td>\n",
       "      <td>2003</td>\n",
       "      <td>1</td>\n",
       "      <td>1</td>\n",
       "      <td>6.0</td>\n",
       "      <td>2003-01-01</td>\n",
       "    </tr>\n",
       "    <tr>\n",
       "      <th>1</th>\n",
       "      <td>Pza.deEspaña</td>\n",
       "      <td>Dióxido_de_Azufre</td>\n",
       "      <td>Fluorescencia_ultravioleta</td>\n",
       "      <td>2003</td>\n",
       "      <td>2</td>\n",
       "      <td>1</td>\n",
       "      <td>19.0</td>\n",
       "      <td>2003-02-01</td>\n",
       "    </tr>\n",
       "    <tr>\n",
       "      <th>2</th>\n",
       "      <td>Pza.deEspaña</td>\n",
       "      <td>Dióxido_de_Azufre</td>\n",
       "      <td>Fluorescencia_ultravioleta</td>\n",
       "      <td>2003</td>\n",
       "      <td>3</td>\n",
       "      <td>1</td>\n",
       "      <td>15.0</td>\n",
       "      <td>2003-03-01</td>\n",
       "    </tr>\n",
       "  </tbody>\n",
       "</table>\n",
       "</div>"
      ],
      "text/plain": [
       "       Estacion             Medida                     Tecnica  Year  Month  \\\n",
       "0  Pza.deEspaña  Dióxido_de_Azufre  Fluorescencia_ultravioleta  2003      1   \n",
       "1  Pza.deEspaña  Dióxido_de_Azufre  Fluorescencia_ultravioleta  2003      2   \n",
       "2  Pza.deEspaña  Dióxido_de_Azufre  Fluorescencia_ultravioleta  2003      3   \n",
       "\n",
       "   Day  Value       Date  \n",
       "0    1    6.0 2003-01-01  \n",
       "1    1   19.0 2003-02-01  \n",
       "2    1   15.0 2003-03-01  "
      ]
     },
     "execution_count": 1,
     "metadata": {},
     "output_type": "execute_result"
    }
   ],
   "source": [
    "import pandas as pd\n",
    "df=pd.read_parquet('data/AirData_raw.parquet')\n",
    "df.head(3)"
   ]
  },
  {
   "cell_type": "code",
   "execution_count": 2,
   "id": "fea1da24-b0a4-456d-9be3-787b7c898e67",
   "metadata": {},
   "outputs": [],
   "source": [
    "df['Medida']=[i.replace('_',' ') for i in df['Medida']]\n",
    "df['Tecnica']=[i.replace('_',' ') for i in df['Tecnica']]"
   ]
  },
  {
   "cell_type": "markdown",
   "id": "a5e0e766-5a43-4057-b193-f4b03f2f9b05",
   "metadata": {},
   "source": [
    "# Detect outliers and label them on the main table"
   ]
  },
  {
   "cell_type": "code",
   "execution_count": 3,
   "id": "ad36b020-f6a9-40fd-b68e-a5dca492179f",
   "metadata": {},
   "outputs": [],
   "source": [
    "# Compute a simple thr\n",
    "th_df=(df[['Medida','Estacion','Value']].groupby(['Estacion','Medida']).std()*5).reset_index()\n",
    "th_df=th_df.rename(columns={'Value':'Th'})\n",
    "# Add thresholds to the main table and label anomalies\n",
    "df=df.merge(th_df, left_on=['Medida','Estacion'], right_on=['Medida','Estacion'])\n",
    "df['Anomaly']=df['Value']>=df['Th']"
   ]
  },
  {
   "cell_type": "code",
   "execution_count": 4,
   "id": "938596cc-bfae-42b1-9de8-c462dc0013ed",
   "metadata": {},
   "outputs": [],
   "source": [
    "# Rename columns and store\n",
    "df.columns=['Location','Contaminant','Technique','Year', 'Month', 'Day', 'Value','Date', 'Th', 'Outlier']\n",
    "df.to_parquet('data/AirData.parquet')"
   ]
  },
  {
   "cell_type": "markdown",
   "id": "5c45fdf5-6c49-4ea5-aa85-255f0802e391",
   "metadata": {},
   "source": [
    "# Store monthly totals"
   ]
  },
  {
   "cell_type": "code",
   "execution_count": 5,
   "id": "4759ae21-313f-450c-9b87-6f7f88e1693d",
   "metadata": {},
   "outputs": [],
   "source": [
    "# Count monthly anomalies per location and contaminant \n",
    "df_anomalies=df[['Location','Contaminant','Year','Month','Outlier']].groupby(['Location','Contaminant','Year','Month']).sum().reset_index()\n",
    "# Rename columns\n",
    "df_anomalies.columns=['Location','Contaminant','Year','Month','Anomalies']\n",
    "# Save to file, we can make some stats later...\n",
    "df_anomalies.to_parquet('data/Anomalies_count.parquet')"
   ]
  }
 ],
 "metadata": {
  "kernelspec": {
   "display_name": "Python 3 (ipykernel)",
   "language": "python",
   "name": "python3"
  },
  "language_info": {
   "codemirror_mode": {
    "name": "ipython",
    "version": 3
   },
   "file_extension": ".py",
   "mimetype": "text/x-python",
   "name": "python",
   "nbconvert_exporter": "python",
   "pygments_lexer": "ipython3",
   "version": "3.10.14"
  }
 },
 "nbformat": 4,
 "nbformat_minor": 5
}
