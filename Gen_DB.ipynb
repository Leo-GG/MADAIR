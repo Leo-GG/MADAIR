{
 "cells": [
  {
   "cell_type": "code",
   "execution_count": 1,
   "id": "882559a3-9252-4dee-8b20-0aafc875e4e1",
   "metadata": {},
   "outputs": [],
   "source": [
    "from sqlalchemy import create_engine\n",
    "import pymysql\n",
    "import boto3"
   ]
  },
  {
   "cell_type": "markdown",
   "id": "10054b8f-fbb4-4def-982a-972d07e605e7",
   "metadata": {},
   "source": [
    "# Make new DB on server"
   ]
  },
  {
   "cell_type": "code",
   "execution_count": 2,
   "id": "45905fe8-2264-49e5-bd59-e85ef6d48051",
   "metadata": {},
   "outputs": [],
   "source": [
    "# MySQL server details\n",
    "host = 'XXX'\n",
    "user = 'XXX'\n",
    "password = 'XXX'\n",
    "port=3306"
   ]
  },
  {
   "cell_type": "code",
   "execution_count": 3,
   "id": "ea9c5cd1-ee26-4b97-9b51-09d10a81b109",
   "metadata": {},
   "outputs": [
    {
     "name": "stdout",
     "output_type": "stream",
     "text": [
      "Database 'MADAIR' created successfully.\n"
     ]
    }
   ],
   "source": [
    "# Connect to server\n",
    "connection = pymysql.connect(host=host, user='admin', password=password, port=port)\n",
    "\n",
    "# Make a new DB\n",
    "new_database_name='MADAIR'\n",
    "\n",
    "try:\n",
    "    with connection.cursor() as cursor:\n",
    "        cursor.execute(f\"CREATE DATABASE IF NOT EXISTS {new_database_name};\")\n",
    "        print(f\"Database '{new_database_name}' created successfully.\")\n",
    "finally:\n",
    "    connection.close()\n"
   ]
  },
  {
   "cell_type": "markdown",
   "id": "12325221-4829-4e58-87c2-79062ab622de",
   "metadata": {},
   "source": [
    "### Load data"
   ]
  },
  {
   "cell_type": "code",
   "execution_count": 4,
   "id": "eb0c7331-6790-4b12-8a23-93e3e5bbf894",
   "metadata": {},
   "outputs": [
    {
     "data": {
      "text/html": [
       "<div>\n",
       "<style scoped>\n",
       "    .dataframe tbody tr th:only-of-type {\n",
       "        vertical-align: middle;\n",
       "    }\n",
       "\n",
       "    .dataframe tbody tr th {\n",
       "        vertical-align: top;\n",
       "    }\n",
       "\n",
       "    .dataframe thead th {\n",
       "        text-align: right;\n",
       "    }\n",
       "</style>\n",
       "<table border=\"1\" class=\"dataframe\">\n",
       "  <thead>\n",
       "    <tr style=\"text-align: right;\">\n",
       "      <th></th>\n",
       "      <th>Location</th>\n",
       "      <th>Contaminant</th>\n",
       "      <th>Technique</th>\n",
       "      <th>Year</th>\n",
       "      <th>Month</th>\n",
       "      <th>Day</th>\n",
       "      <th>Value</th>\n",
       "      <th>Date</th>\n",
       "      <th>Th</th>\n",
       "      <th>Outlier</th>\n",
       "    </tr>\n",
       "  </thead>\n",
       "  <tbody>\n",
       "    <tr>\n",
       "      <th>0</th>\n",
       "      <td>Pza.deEspaña</td>\n",
       "      <td>Dióxido de Azufre</td>\n",
       "      <td>Fluorescencia ultravioleta</td>\n",
       "      <td>2003</td>\n",
       "      <td>1</td>\n",
       "      <td>1</td>\n",
       "      <td>6.0</td>\n",
       "      <td>2003-01-01</td>\n",
       "      <td>45.150684</td>\n",
       "      <td>False</td>\n",
       "    </tr>\n",
       "    <tr>\n",
       "      <th>1</th>\n",
       "      <td>Pza.deEspaña</td>\n",
       "      <td>Dióxido de Azufre</td>\n",
       "      <td>Fluorescencia ultravioleta</td>\n",
       "      <td>2003</td>\n",
       "      <td>2</td>\n",
       "      <td>1</td>\n",
       "      <td>19.0</td>\n",
       "      <td>2003-02-01</td>\n",
       "      <td>45.150684</td>\n",
       "      <td>False</td>\n",
       "    </tr>\n",
       "    <tr>\n",
       "      <th>2</th>\n",
       "      <td>Pza.deEspaña</td>\n",
       "      <td>Dióxido de Azufre</td>\n",
       "      <td>Fluorescencia ultravioleta</td>\n",
       "      <td>2003</td>\n",
       "      <td>3</td>\n",
       "      <td>1</td>\n",
       "      <td>15.0</td>\n",
       "      <td>2003-03-01</td>\n",
       "      <td>45.150684</td>\n",
       "      <td>False</td>\n",
       "    </tr>\n",
       "  </tbody>\n",
       "</table>\n",
       "</div>"
      ],
      "text/plain": [
       "       Location        Contaminant                   Technique  Year  Month  \\\n",
       "0  Pza.deEspaña  Dióxido de Azufre  Fluorescencia ultravioleta  2003      1   \n",
       "1  Pza.deEspaña  Dióxido de Azufre  Fluorescencia ultravioleta  2003      2   \n",
       "2  Pza.deEspaña  Dióxido de Azufre  Fluorescencia ultravioleta  2003      3   \n",
       "\n",
       "   Day  Value       Date         Th  Outlier  \n",
       "0    1    6.0 2003-01-01  45.150684    False  \n",
       "1    1   19.0 2003-02-01  45.150684    False  \n",
       "2    1   15.0 2003-03-01  45.150684    False  "
      ]
     },
     "execution_count": 4,
     "metadata": {},
     "output_type": "execute_result"
    }
   ],
   "source": [
    "import pandas as pd\n",
    "df=pd.read_parquet('data/AirData.parquet')\n",
    "df.head(3)"
   ]
  },
  {
   "cell_type": "markdown",
   "id": "35eff963-8e66-44c6-a27f-ad56ce2a9210",
   "metadata": {},
   "source": [
    "### Make a new table on the DB using the DataFrame data"
   ]
  },
  {
   "cell_type": "code",
   "execution_count": 5,
   "id": "75a99ce6-8752-409d-9ae7-364d9f3797a7",
   "metadata": {},
   "outputs": [],
   "source": [
    "# Create a connection to the MySQL database using SQLAlchemy\n",
    "connection_string = f'mysql+pymysql://{user}:{password}@{host}:{port}/{new_database_name}'\n",
    "engine = create_engine(connection_string)\n",
    "\n",
    "# Write the DataFrame to a MySQL table \n",
    "df.to_sql('AirData', con=engine, if_exists='replace', index=False)\n",
    "\n",
    "# Optional: Close the connection (if needed)\n",
    "engine.dispose()"
   ]
  },
  {
   "cell_type": "markdown",
   "id": "d7cb602c-e6e3-480c-8874-ee6e1b6aa630",
   "metadata": {},
   "source": [
    "### Load data"
   ]
  },
  {
   "cell_type": "code",
   "execution_count": 6,
   "id": "fc311b07-07e6-4e22-8826-1f4c37f44e17",
   "metadata": {},
   "outputs": [
    {
     "data": {
      "text/html": [
       "<div>\n",
       "<style scoped>\n",
       "    .dataframe tbody tr th:only-of-type {\n",
       "        vertical-align: middle;\n",
       "    }\n",
       "\n",
       "    .dataframe tbody tr th {\n",
       "        vertical-align: top;\n",
       "    }\n",
       "\n",
       "    .dataframe thead th {\n",
       "        text-align: right;\n",
       "    }\n",
       "</style>\n",
       "<table border=\"1\" class=\"dataframe\">\n",
       "  <thead>\n",
       "    <tr style=\"text-align: right;\">\n",
       "      <th></th>\n",
       "      <th>Location</th>\n",
       "      <th>Contaminant</th>\n",
       "      <th>Year</th>\n",
       "      <th>Month</th>\n",
       "      <th>Anomalies</th>\n",
       "    </tr>\n",
       "  </thead>\n",
       "  <tbody>\n",
       "    <tr>\n",
       "      <th>0</th>\n",
       "      <td>ArturoSoria</td>\n",
       "      <td>Dióxido de Nitrógeno</td>\n",
       "      <td>2001</td>\n",
       "      <td>1</td>\n",
       "      <td>0</td>\n",
       "    </tr>\n",
       "    <tr>\n",
       "      <th>1</th>\n",
       "      <td>ArturoSoria</td>\n",
       "      <td>Dióxido de Nitrógeno</td>\n",
       "      <td>2001</td>\n",
       "      <td>2</td>\n",
       "      <td>1</td>\n",
       "    </tr>\n",
       "    <tr>\n",
       "      <th>2</th>\n",
       "      <td>ArturoSoria</td>\n",
       "      <td>Dióxido de Nitrógeno</td>\n",
       "      <td>2001</td>\n",
       "      <td>3</td>\n",
       "      <td>0</td>\n",
       "    </tr>\n",
       "  </tbody>\n",
       "</table>\n",
       "</div>"
      ],
      "text/plain": [
       "      Location           Contaminant  Year  Month  Anomalies\n",
       "0  ArturoSoria  Dióxido de Nitrógeno  2001      1          0\n",
       "1  ArturoSoria  Dióxido de Nitrógeno  2001      2          1\n",
       "2  ArturoSoria  Dióxido de Nitrógeno  2001      3          0"
      ]
     },
     "execution_count": 6,
     "metadata": {},
     "output_type": "execute_result"
    }
   ],
   "source": [
    "import pandas as pd\n",
    "df=pd.read_parquet('data/Anomalies_count.parquet')\n",
    "df.head(3)"
   ]
  },
  {
   "cell_type": "markdown",
   "id": "66145307-403b-4d29-aaa0-255b564099cf",
   "metadata": {},
   "source": [
    "### Make a new table on the DB using the DataFrame data"
   ]
  },
  {
   "cell_type": "code",
   "execution_count": 7,
   "id": "b6323402-62bd-413b-b220-ff8757037bf1",
   "metadata": {},
   "outputs": [],
   "source": [
    "# Create a connection to the MySQL database using SQLAlchemy\n",
    "connection_string = f'mysql+pymysql://{user}:{password}@{host}:{port}/{new_database_name}'\n",
    "engine = create_engine(connection_string)\n",
    "\n",
    "# Write the DataFrame to a MySQL table \n",
    "df.to_sql('Outliers', con=engine, if_exists='replace', index=False)\n",
    "\n",
    "# Optional: Close the connection (if needed)\n",
    "engine.dispose()"
   ]
  },
  {
   "cell_type": "code",
   "execution_count": null,
   "id": "8f3efa8d-1351-44de-94c3-7814d27f7da3",
   "metadata": {},
   "outputs": [],
   "source": []
  }
 ],
 "metadata": {
  "kernelspec": {
   "display_name": "Python 3 (ipykernel)",
   "language": "python",
   "name": "python3"
  },
  "language_info": {
   "codemirror_mode": {
    "name": "ipython",
    "version": 3
   },
   "file_extension": ".py",
   "mimetype": "text/x-python",
   "name": "python",
   "nbconvert_exporter": "python",
   "pygments_lexer": "ipython3",
   "version": "3.10.14"
  }
 },
 "nbformat": 4,
 "nbformat_minor": 5
}
